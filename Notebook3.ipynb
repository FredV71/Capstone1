{
 "cells": [
  {
   "cell_type": "markdown",
   "metadata": {},
   "source": [
    "<h1>Capstone Project - The Battle of Neighborhoods</h>"
   ]
  },
  {
   "cell_type": "markdown",
   "metadata": {},
   "source": [
    "<h2>Fred Vezzani</h2>"
   ]
  },
  {
   "cell_type": "markdown",
   "metadata": {},
   "source": [
    "<h3>Introduction: Coffee Place in Milan</h3>"
   ]
  },
  {
   "cell_type": "markdown",
   "metadata": {},
   "source": [
    "In one of the world's Coffee Capitals, the Coffee Place World is very crowded.\n",
    "A small entrepreneur in Milan has told me to explore his chances"
   ]
  },
  {
   "cell_type": "markdown",
   "metadata": {},
   "source": [
    "<h3>Data:</h3>"
   ]
  },
  {
   "cell_type": "markdown",
   "metadata": {},
   "source": [
    "We will need to connect to FourSquare API to get addresses, and lat/long of each Coffee Place. Then put them on a Folium Map"
   ]
  },
  {
   "cell_type": "markdown",
   "metadata": {},
   "source": [
    "<h3>Methodology:</h3>"
   ]
  },
  {
   "cell_type": "code",
   "execution_count": 7,
   "metadata": {},
   "outputs": [
    {
     "name": "stdout",
     "output_type": "stream",
     "text": [
      "Collecting folium\n",
      "  Downloading folium-0.11.0-py2.py3-none-any.whl (93 kB)\n",
      "Requirement already satisfied: jinja2>=2.9 in c:\\users\\feder\\anaconda3\\lib\\site-packages (from folium) (2.11.1)\n",
      "Requirement already satisfied: numpy in c:\\users\\feder\\anaconda3\\lib\\site-packages (from folium) (1.18.1)\n",
      "Requirement already satisfied: requests in c:\\users\\feder\\anaconda3\\lib\\site-packages (from folium) (2.22.0)\n",
      "Collecting branca>=0.3.0\n",
      "  Downloading branca-0.4.1-py3-none-any.whl (24 kB)\n",
      "Requirement already satisfied: MarkupSafe>=0.23 in c:\\users\\feder\\anaconda3\\lib\\site-packages (from jinja2>=2.9->folium) (1.1.1)\n",
      "Requirement already satisfied: certifi>=2017.4.17 in c:\\users\\feder\\anaconda3\\lib\\site-packages (from requests->folium) (2019.11.28)\n",
      "Requirement already satisfied: chardet<3.1.0,>=3.0.2 in c:\\users\\feder\\anaconda3\\lib\\site-packages (from requests->folium) (3.0.4)\n",
      "Requirement already satisfied: urllib3!=1.25.0,!=1.25.1,<1.26,>=1.21.1 in c:\\users\\feder\\anaconda3\\lib\\site-packages (from requests->folium) (1.25.8)\n",
      "Requirement already satisfied: idna<2.9,>=2.5 in c:\\users\\feder\\anaconda3\\lib\\site-packages (from requests->folium) (2.8)\n",
      "Installing collected packages: branca, folium\n",
      "Successfully installed branca-0.4.1 folium-0.11.0\n"
     ]
    }
   ],
   "source": [
    "# Importing Libs\n",
    "import requests \n",
    "import pandas as pd\n",
    "import numpy as np\n",
    "!pip install folium\n",
    "import folium "
   ]
  },
  {
   "cell_type": "code",
   "execution_count": 8,
   "metadata": {},
   "outputs": [],
   "source": [
    "# FourSquare Creds\n",
    "CLIENT_ID = 'CBQBV2BD34KTDEZQFLNOKPLHNBG15GWXLHKMIXE2HAQC4GG5'\n",
    "CLIENT_SECRET = 'B4AU53NJZJA5OYA1KGOLSEBHDFEOOR1KHKUNIA03MHYHF4J4'\n",
    "VERSION = '20200801'\n",
    "LIMIT = 40"
   ]
  },
  {
   "cell_type": "code",
   "execution_count": 16,
   "metadata": {},
   "outputs": [],
   "source": [
    "# Explore Milan\n",
    "request_parameters = {\n",
    "    \"client_id\": CLIENT_ID,\n",
    "    \"client_secret\": CLIENT_SECRET,\n",
    "    \"v\": '20180605',\n",
    "    \"section\": \"coffee\",\n",
    "    \"near\": \"Milan\",\n",
    "    \"radius\": 1000,\n",
    "    \"limit\": 50}\n",
    "data = requests.get(\"https://api.foursquare.com/v2/venues/explore\", params=request_parameters)"
   ]
  },
  {
   "cell_type": "code",
   "execution_count": 17,
   "metadata": {},
   "outputs": [
    {
     "data": {
      "text/plain": [
       "dict_keys(['suggestedFilters', 'geocode', 'headerLocation', 'headerFullLocation', 'headerLocationGranularity', 'query', 'totalResults', 'suggestedBounds', 'groups'])"
      ]
     },
     "execution_count": 17,
     "metadata": {},
     "output_type": "execute_result"
    }
   ],
   "source": [
    "# Analyzing Response\n",
    "d = data.json()[\"response\"]\n",
    "d.keys()"
   ]
  },
  {
   "cell_type": "code",
   "execution_count": 18,
   "metadata": {},
   "outputs": [
    {
     "data": {
      "text/plain": [
       "('city', 'Milan', 'Milan')"
      ]
     },
     "execution_count": 18,
     "metadata": {},
     "output_type": "execute_result"
    }
   ],
   "source": [
    "d[\"headerLocationGranularity\"], d[\"headerLocation\"], d[\"headerFullLocation\"]"
   ]
  },
  {
   "cell_type": "code",
   "execution_count": 19,
   "metadata": {},
   "outputs": [
    {
     "data": {
      "text/plain": [
       "({'ne': {'lat': 45.47109412052524, 'lng': 9.200040988476063},\n",
       "  'sw': {'lat': 45.457643655196364, 'lng': 9.17989738150114}},\n",
       " 143)"
      ]
     },
     "execution_count": 19,
     "metadata": {},
     "output_type": "execute_result"
    }
   ],
   "source": [
    "d[\"suggestedBounds\"], d[\"totalResults\"]"
   ]
  },
  {
   "cell_type": "code",
   "execution_count": 20,
   "metadata": {},
   "outputs": [
    {
     "data": {
      "text/plain": [
       "{'what': '',\n",
       " 'where': 'milan',\n",
       " 'center': {'lat': 45.46427, 'lng': 9.18951},\n",
       " 'displayString': 'Milan, Lombardy, Italy',\n",
       " 'cc': 'IT',\n",
       " 'geometry': {'bounds': {'ne': {'lat': 45.53644193307576,\n",
       "    'lng': 9.278070963403922},\n",
       "   'sw': {'lat': 45.38920202383928, 'lng': 9.039837068386658}}},\n",
       " 'slug': 'milano-italy',\n",
       " 'longId': '72057594041101371'}"
      ]
     },
     "execution_count": 20,
     "metadata": {},
     "output_type": "execute_result"
    }
   ],
   "source": [
    "d[\"geocode\"]"
   ]
  },
  {
   "cell_type": "code",
   "execution_count": 21,
   "metadata": {},
   "outputs": [
    {
     "data": {
      "text/plain": [
       "dict_keys(['type', 'name', 'items'])"
      ]
     },
     "execution_count": 21,
     "metadata": {},
     "output_type": "execute_result"
    }
   ],
   "source": [
    "d[\"groups\"][0].keys()"
   ]
  },
  {
   "cell_type": "code",
   "execution_count": 22,
   "metadata": {},
   "outputs": [
    {
     "data": {
      "text/plain": [
       "('Recommended Places', 'recommended')"
      ]
     },
     "execution_count": 22,
     "metadata": {},
     "output_type": "execute_result"
    }
   ],
   "source": [
    "d[\"groups\"][0][\"type\"], d[\"groups\"][0][\"name\"]"
   ]
  },
  {
   "cell_type": "code",
   "execution_count": 23,
   "metadata": {},
   "outputs": [
    {
     "name": "stdout",
     "output_type": "stream",
     "text": [
      "number of items: 50\n"
     ]
    },
    {
     "data": {
      "text/plain": [
       "{'reasons': {'count': 0,\n",
       "  'items': [{'summary': 'This spot is popular',\n",
       "    'type': 'general',\n",
       "    'reasonName': 'globalInteractionReason'}]},\n",
       " 'venue': {'id': '57d52948498ebceb900cf11c',\n",
       "  'name': 'Pasticceria Marchesi',\n",
       "  'location': {'address': 'Galleria Vittorio Emanuele II',\n",
       "   'lat': 45.46561245831536,\n",
       "   'lng': 9.190091221105353,\n",
       "   'labeledLatLngs': [{'label': 'display',\n",
       "     'lat': 45.46561245831536,\n",
       "     'lng': 9.190091221105353}],\n",
       "   'postalCode': '20121',\n",
       "   'cc': 'IT',\n",
       "   'neighborhood': 'Duomo',\n",
       "   'city': 'Milano',\n",
       "   'state': 'Lombardia',\n",
       "   'country': 'Italia',\n",
       "   'formattedAddress': ['Galleria Vittorio Emanuele II',\n",
       "    '20121 Milano Lombardia',\n",
       "    'Italia']},\n",
       "  'categories': [{'id': '5744ccdfe4b0c0459246b4e2',\n",
       "    'name': 'Pastry Shop',\n",
       "    'pluralName': 'Pastry Shops',\n",
       "    'shortName': 'Pastry',\n",
       "    'icon': {'prefix': 'https://ss3.4sqi.net/img/categories_v2/food/dessert_',\n",
       "     'suffix': '.png'},\n",
       "    'primary': True}],\n",
       "  'photos': {'count': 0, 'groups': []}},\n",
       " 'referralId': 'e-5-57d52948498ebceb900cf11c-0'}"
      ]
     },
     "execution_count": 23,
     "metadata": {},
     "output_type": "execute_result"
    }
   ],
   "source": [
    "# Creating Items of Coffee Shop and printing one\n",
    "items = d[\"groups\"][0][\"items\"]\n",
    "print(\"number of items: %i\" % len(items))\n",
    "items[0]"
   ]
  },
  {
   "cell_type": "code",
   "execution_count": 24,
   "metadata": {},
   "outputs": [
    {
     "name": "stdout",
     "output_type": "stream",
     "text": [
      "{'address': 'Galleria Vittorio Emanuele II', 'lat': 45.46561245831536, 'lng': 9.190091221105353, 'labeledLatLngs': [{'label': 'display', 'lat': 45.46561245831536, 'lng': 9.190091221105353}], 'postalCode': '20121', 'cc': 'IT', 'neighborhood': 'Duomo', 'city': 'Milano', 'state': 'Lombardia', 'country': 'Italia', 'formattedAddress': ['Galleria Vittorio Emanuele II', '20121 Milano Lombardia', 'Italia']}\n",
      "{'address': 'Piazza Cordusio 3', 'crossStreet': 'Via Orefici', 'lat': 45.46492026479228, 'lng': 9.186152815818787, 'labeledLatLngs': [{'label': 'display', 'lat': 45.46492026479228, 'lng': 9.186152815818787}], 'postalCode': '20123', 'cc': 'IT', 'city': 'Milano', 'state': 'Lombardia', 'country': 'Italia', 'formattedAddress': ['Piazza Cordusio 3 (Via Orefici)', '20123 Milano Lombardia', 'Italia']}\n",
      "{'address': 'Piazza San Fedele, 2', 'lat': 45.46627391020354, 'lng': 9.190975102861223, 'labeledLatLngs': [{'label': 'display', 'lat': 45.46627391020354, 'lng': 9.190975102861223}], 'postalCode': '20122', 'cc': 'IT', 'neighborhood': 'Duomo', 'city': 'Milano', 'state': 'Lombardia', 'country': 'Italia', 'formattedAddress': ['Piazza San Fedele, 2', '20122 Milano Lombardia', 'Italia']}\n",
      "{'address': 'Via Mengoni 4', 'lat': 45.465238392719286, 'lng': 9.18859009871778, 'labeledLatLngs': [{'label': 'display', 'lat': 45.465238392719286, 'lng': 9.18859009871778}], 'postalCode': '20121', 'cc': 'IT', 'neighborhood': 'Duomo', 'city': 'Milano', 'state': 'Lombardia', 'country': 'Italia', 'formattedAddress': ['Via Mengoni 4', '20121 Milano Lombardia', 'Italia']}\n",
      "{'address': 'Via Speronari, 6', 'lat': 45.46302917028038, 'lng': 9.187967969165536, 'labeledLatLngs': [{'label': 'display', 'lat': 45.46302917028038, 'lng': 9.187967969165536}], 'postalCode': '20123', 'cc': 'IT', 'neighborhood': 'Duomo', 'city': 'Milano', 'state': 'Lombardia', 'country': 'Italia', 'formattedAddress': ['Via Speronari, 6', '20123 Milano Lombardia', 'Italia']}\n",
      "{'address': 'Via Gaetano Giardino 1', 'lat': 45.462816426798085, 'lng': 9.189022685823147, 'labeledLatLngs': [{'label': 'display', 'lat': 45.462816426798085, 'lng': 9.189022685823147}], 'postalCode': '20123', 'cc': 'IT', 'city': 'Milano', 'state': 'Lombardia', 'country': 'Italia', 'formattedAddress': ['Via Gaetano Giardino 1', '20123 Milano Lombardia', 'Italia']}\n",
      "{'address': 'Via Agnello,18', 'lat': 45.4660956216435, 'lng': 9.19217727792069, 'labeledLatLngs': [{'label': 'display', 'lat': 45.4660956216435, 'lng': 9.19217727792069}], 'cc': 'IT', 'city': 'Milano', 'state': 'Lombardia', 'country': 'Italia', 'formattedAddress': ['Via Agnello,18', 'Milano Lombardia', 'Italia']}\n",
      "{'address': 'Piazza del Liberty', 'lat': 45.46542802657201, 'lng': 9.193850049775302, 'labeledLatLngs': [{'label': 'display', 'lat': 45.46542802657201, 'lng': 9.193850049775302}], 'postalCode': '20121', 'cc': 'IT', 'city': 'Milano', 'state': 'Lombardia', 'country': 'Italia', 'formattedAddress': ['Piazza del Liberty', '20121 Milano Lombardia', 'Italia']}\n",
      "{'address': 'Galleria Vittorio Emanuele II', 'crossStreet': 'Piazza del Duomo 21', 'lat': 45.46485102244636, 'lng': 9.190035648494339, 'labeledLatLngs': [{'label': 'display', 'lat': 45.46485102244636, 'lng': 9.190035648494339}], 'postalCode': '20121', 'cc': 'IT', 'neighborhood': 'Duomo', 'city': 'Milano', 'state': 'Lombardia', 'country': 'Italia', 'formattedAddress': ['Galleria Vittorio Emanuele II (Piazza del Duomo 21)', '20121 Milano Lombardia', 'Italia']}\n",
      "{'address': 'Via San Maurilio 20', 'lat': 45.46264, 'lng': 9.183381, 'labeledLatLngs': [{'label': 'display', 'lat': 45.46264, 'lng': 9.183381}], 'postalCode': '20123', 'cc': 'IT', 'neighborhood': 'Duomo', 'city': 'Milano', 'state': 'Lombardia', 'country': 'Italia', 'formattedAddress': ['Via San Maurilio 20', '20123 Milano Lombardia', 'Italia']}\n",
      "{'address': 'Galleria Vittorio Emanuele', 'lat': 45.46532005977329, 'lng': 9.190060082650994, 'labeledLatLngs': [{'label': 'display', 'lat': 45.46532005977329, 'lng': 9.190060082650994}], 'postalCode': '20121', 'cc': 'IT', 'city': 'Milano', 'state': 'Lombardia', 'country': 'Italia', 'formattedAddress': ['Galleria Vittorio Emanuele', '20121 Milano Lombardia', 'Italia']}\n",
      "{'address': 'Via Agnello 18', 'crossStreet': 'Via Hoepli', 'lat': 45.465927, 'lng': 9.192111, 'labeledLatLngs': [{'label': 'display', 'lat': 45.465927, 'lng': 9.192111}], 'postalCode': '20121', 'cc': 'IT', 'neighborhood': 'Duomo', 'city': 'Milano', 'state': 'Lombardia', 'country': 'Italia', 'formattedAddress': ['Via Agnello 18 (Via Hoepli)', '20121 Milano Lombardia', 'Italia']}\n",
      "{'address': 'Via Ulrico Hoepli, 3', 'lat': 45.46620134334683, 'lng': 9.192381052694248, 'labeledLatLngs': [{'label': 'display', 'lat': 45.46620134334683, 'lng': 9.192381052694248}], 'postalCode': '20121', 'cc': 'IT', 'neighborhood': 'Duomo', 'city': 'Milano', 'state': 'Lombardia', 'country': 'Italia', 'formattedAddress': ['Via Ulrico Hoepli, 3', '20121 Milano Lombardia', 'Italia']}\n",
      "{'address': 'Via Montenapoleone, 9', 'lat': 45.46829889822176, 'lng': 9.195017669261254, 'labeledLatLngs': [{'label': 'display', 'lat': 45.46829889822176, 'lng': 9.195017669261254}], 'postalCode': '20121', 'cc': 'IT', 'neighborhood': 'Duomo', 'city': 'Milano', 'state': 'Lombardia', 'country': 'Italia', 'formattedAddress': ['Via Montenapoleone, 9', '20121 Milano Lombardia', 'Italia']}\n",
      "{'address': 'Via Marconi 1', 'lat': 45.463778360954784, 'lng': 9.190180499930277, 'labeledLatLngs': [{'label': 'display', 'lat': 45.463778360954784, 'lng': 9.190180499930277}], 'cc': 'IT', 'city': 'Milano', 'state': 'Lombardia', 'country': 'Italia', 'formattedAddress': ['Via Marconi 1', 'Milano Lombardia', 'Italia']}\n",
      "{'address': 'Via Montenapoleone 8', 'lat': 45.468169858858836, 'lng': 9.195347117740523, 'labeledLatLngs': [{'label': 'display', 'lat': 45.468169858858836, 'lng': 9.195347117740523}], 'postalCode': '20121', 'cc': 'IT', 'neighborhood': 'Duomo', 'city': 'Milano', 'state': 'Lombardia', 'country': 'Italia', 'formattedAddress': ['Via Montenapoleone 8', '20121 Milano Lombardia', 'Italia']}\n",
      "{'address': 'Piazza Diaz 5', 'crossStreet': 'Via Baracchini', 'lat': 45.46225653810198, 'lng': 9.189973619693172, 'labeledLatLngs': [{'label': 'display', 'lat': 45.46225653810198, 'lng': 9.189973619693172}], 'cc': 'IT', 'city': 'Milano', 'state': 'Lombardia', 'country': 'Italia', 'formattedAddress': ['Piazza Diaz 5 (Via Baracchini)', 'Milano Lombardia', 'Italia']}\n",
      "{'address': 'Via Alessandro Manzoni 31', 'lat': 45.470482735737555, 'lng': 9.192785310399648, 'labeledLatLngs': [{'label': 'display', 'lat': 45.470482735737555, 'lng': 9.192785310399648}], 'postalCode': '20121', 'cc': 'IT', 'neighborhood': 'Brera', 'city': 'Milano', 'state': 'Lombardia', 'country': 'Italia', 'formattedAddress': ['Via Alessandro Manzoni 31', '20121 Milano Lombardia', 'Italia']}\n",
      "{'address': 'Via Spadari', 'crossStreet': 'Via Victor Hugo', 'lat': 45.46374660590845, 'lng': 9.18706069259784, 'labeledLatLngs': [{'label': 'display', 'lat': 45.46374660590845, 'lng': 9.18706069259784}], 'postalCode': '20123', 'cc': 'IT', 'city': 'Milano', 'state': 'Lombardia', 'country': 'Italia', 'formattedAddress': ['Via Spadari (Via Victor Hugo)', '20123 Milano Lombardia', 'Italia']}\n",
      "{'address': 'Corso Giacomo Matteotti 7', 'lat': 45.466947768331686, 'lng': 9.196064817335985, 'labeledLatLngs': [{'label': 'display', 'lat': 45.466947768331686, 'lng': 9.196064817335985}], 'postalCode': '20121', 'cc': 'IT', 'city': 'Milano', 'state': 'Lombardia', 'country': 'Italia', 'formattedAddress': ['Corso Giacomo Matteotti 7', '20121 Milano Lombardia', 'Italia']}\n",
      "{'address': 'Piazza della Scala 5', 'lat': 45.46704837461494, 'lng': 9.189277489403956, 'labeledLatLngs': [{'label': 'display', 'lat': 45.46704837461494, 'lng': 9.189277489403956}], 'cc': 'IT', 'city': 'Milano', 'state': 'Lombardia', 'country': 'Italia', 'formattedAddress': ['Piazza della Scala 5', 'Milano Lombardia', 'Italia']}\n",
      "{'address': 'Via Croce Rossa 2', 'lat': 45.470403366511526, 'lng': 9.192369082311343, 'labeledLatLngs': [{'label': 'display', 'lat': 45.470403366511526, 'lng': 9.192369082311343}], 'postalCode': '20121', 'cc': 'IT', 'neighborhood': 'Brera', 'city': 'Milano', 'state': 'Lombardia', 'country': 'Italia', 'formattedAddress': ['Via Croce Rossa 2', '20121 Milano Lombardia', 'Italia']}\n",
      "{'address': 'Via Alberico Albricci, 3', 'lat': 45.46103933048625, 'lng': 9.189199765551487, 'labeledLatLngs': [{'label': 'display', 'lat': 45.46103933048625, 'lng': 9.189199765551487}], 'cc': 'IT', 'city': 'Milano', 'state': 'Lombardia', 'country': 'Italia', 'formattedAddress': ['Via Alberico Albricci, 3', 'Milano Lombardia', 'Italia']}\n",
      "{'address': 'Via Felice Cavallotti 8', 'lat': 45.46379847210461, 'lng': 9.196576587108424, 'labeledLatLngs': [{'label': 'display', 'lat': 45.46379847210461, 'lng': 9.196576587108424}], 'postalCode': '20122', 'cc': 'IT', 'neighborhood': 'Duomo, Milano, Lombardia', 'city': 'Milano', 'state': 'Lombardia', 'country': 'Italia', 'formattedAddress': ['Via Felice Cavallotti 8', '20122 Milano Lombardia', 'Italia']}\n",
      "{'address': 'Via Ponte Vetero, 9', 'lat': 45.46958889238612, 'lng': 9.185102425500183, 'labeledLatLngs': [{'label': 'display', 'lat': 45.46958889238612, 'lng': 9.185102425500183}], 'postalCode': '20121', 'cc': 'IT', 'city': 'Milano', 'state': 'Lombardia', 'country': 'Italia', 'formattedAddress': ['Via Ponte Vetero, 9', '20121 Milano Lombardia', 'Italia']}\n",
      "{'address': 'Via Speronari, 3', 'lat': 45.46291120156476, 'lng': 9.18806228422135, 'labeledLatLngs': [{'label': 'display', 'lat': 45.46291120156476, 'lng': 9.18806228422135}], 'postalCode': '20123', 'cc': 'IT', 'city': 'Milano', 'state': 'Lombardia', 'country': 'Italia', 'formattedAddress': ['Via Speronari, 3', '20123 Milano Lombardia', 'Italia']}\n",
      "{'address': 'Via Borgogna, 5', 'lat': 45.46592, 'lng': 9.19895, 'labeledLatLngs': [{'label': 'display', 'lat': 45.46592, 'lng': 9.19895}], 'postalCode': '20122', 'cc': 'IT', 'neighborhood': 'Centro Storico', 'city': 'Milano', 'state': 'Lombardia', 'country': 'Italia', 'formattedAddress': ['Via Borgogna, 5', '20122 Milano Lombardia', 'Italia']}\n",
      "{'address': 'Piazza Duomo 12', 'lat': 45.463016600801474, 'lng': 9.191313432863684, 'labeledLatLngs': [{'label': 'display', 'lat': 45.463016600801474, 'lng': 9.191313432863684}], 'cc': 'IT', 'city': 'Milano', 'state': 'Lombardia', 'country': 'Italia', 'formattedAddress': ['Piazza Duomo 12', 'Milano Lombardia', 'Italia']}\n",
      "{'address': 'Via Circo 1', 'lat': 45.461491, 'lng': 9.180813, 'labeledLatLngs': [{'label': 'display', 'lat': 45.461491, 'lng': 9.180813}], 'postalCode': '20123', 'cc': 'IT', 'city': 'Milano', 'state': 'Lombardia', 'country': 'Italia', 'formattedAddress': ['Via Circo 1', '20123 Milano Lombardia', 'Italia']}\n",
      "{'address': 'Via Lentasio 1', 'lat': 45.458397, 'lng': 9.191825, 'labeledLatLngs': [{'label': 'display', 'lat': 45.458397, 'lng': 9.191825}], 'postalCode': '20122', 'cc': 'IT', 'city': 'Milano', 'state': 'Lombardia', 'country': 'Italia', 'formattedAddress': ['Via Lentasio 1', '20122 Milano Lombardia', 'Italia']}\n",
      "{'address': 'Via Durini 28', 'lat': 45.46580531994816, 'lng': 9.19843726648353, 'labeledLatLngs': [{'label': 'display', 'lat': 45.46580531994816, 'lng': 9.19843726648353}], 'postalCode': '20122', 'cc': 'IT', 'city': 'Milano', 'state': 'Lombardia', 'country': 'Italia', 'formattedAddress': ['Via Durini 28', '20122 Milano Lombardia', 'Italia']}\n",
      "{'address': 'Via Cesare Cantù 3', 'lat': 45.464281489105105, 'lng': 9.186916136756489, 'labeledLatLngs': [{'label': 'display', 'lat': 45.464281489105105, 'lng': 9.186916136756489}], 'postalCode': '20123', 'cc': 'IT', 'city': 'Milano', 'state': 'Lombardia', 'country': 'Italia', 'formattedAddress': ['Via Cesare Cantù 3', '20123 Milano Lombardia', 'Italia']}\n",
      "{'address': 'via Montenapoleone 13', 'lat': 45.468396046071405, 'lng': 9.19484535925558, 'labeledLatLngs': [{'label': 'display', 'lat': 45.468396046071405, 'lng': 9.19484535925558}], 'postalCode': '20121', 'cc': 'IT', 'city': 'Milano', 'state': 'Lombardia', 'country': 'Italia', 'formattedAddress': ['via Montenapoleone 13', '20121 Milano Lombardia', 'Italia']}\n",
      "{'address': 'Corso Venezia, 21', 'crossStreet': 'Via Senato', 'lat': 45.468876534217785, 'lng': 9.199125369977203, 'labeledLatLngs': [{'label': 'display', 'lat': 45.468876534217785, 'lng': 9.199125369977203}], 'postalCode': '20100', 'cc': 'IT', 'neighborhood': 'Duomo', 'city': 'Milano', 'state': 'Lombardia', 'country': 'Italia', 'formattedAddress': ['Corso Venezia, 21 (Via Senato)', '20100 Milano Lombardia', 'Italia']}\n",
      "{'address': 'Piazza Duomo', 'lat': 45.46465740916136, 'lng': 9.190182436789422, 'labeledLatLngs': [{'label': 'display', 'lat': 45.46465740916136, 'lng': 9.190182436789422}], 'postalCode': '20121', 'cc': 'IT', 'neighborhood': 'Duomo', 'city': 'Milano', 'state': 'Lombardia', 'country': 'Italia', 'formattedAddress': ['Piazza Duomo', '20121 Milano Lombardia', 'Italia']}\n",
      "{'address': 'Via Durini 26', 'crossStreet': 'Via Borgogna', 'lat': 45.465467088499665, 'lng': 9.198214087171793, 'labeledLatLngs': [{'label': 'display', 'lat': 45.465467088499665, 'lng': 9.198214087171793}], 'postalCode': '20122', 'cc': 'IT', 'city': 'Milano', 'state': 'Lombardia', 'country': 'Italia', 'formattedAddress': ['Via Durini 26 (Via Borgogna)', '20122 Milano Lombardia', 'Italia']}\n",
      "{'address': 'Corso di Porta Romana 44', 'lat': 45.458338, 'lng': 9.19198, 'labeledLatLngs': [{'label': 'display', 'lat': 45.458338, 'lng': 9.19198}], 'postalCode': '20122', 'cc': 'IT', 'city': 'Milano', 'state': 'Lombardia', 'country': 'Italia', 'formattedAddress': ['Corso di Porta Romana 44', '20122 Milano Lombardia', 'Italia']}\n",
      "{'address': 'Via Larga 2', 'lat': 45.46290882047087, 'lng': 9.194677380109265, 'labeledLatLngs': [{'label': 'display', 'lat': 45.46290882047087, 'lng': 9.194677380109265}], 'postalCode': '20122', 'cc': 'IT', 'city': 'Milano', 'state': 'Lombardia', 'country': 'Italia', 'formattedAddress': ['Via Larga 2', '20122 Milano Lombardia', 'Italia']}\n",
      "{'address': 'Via Giacomo Puccini 4', 'crossStreet': 'Via San Giovanni sul Muro', 'lat': 45.466978201673975, 'lng': 9.18114789126016, 'labeledLatLngs': [{'label': 'display', 'lat': 45.466978201673975, 'lng': 9.18114789126016}], 'postalCode': '20121', 'cc': 'IT', 'city': 'Milano', 'state': 'Lombardia', 'country': 'Italia', 'formattedAddress': ['Via Giacomo Puccini 4 (Via San Giovanni sul Muro)', '20121 Milano Lombardia', 'Italia']}\n",
      "{'address': 'via Broletto 13', 'lat': 45.467425302673156, 'lng': 9.185739896298994, 'labeledLatLngs': [{'label': 'display', 'lat': 45.467425302673156, 'lng': 9.185739896298994}], 'postalCode': '20129', 'cc': 'IT', 'neighborhood': 'Centro Storico, Milano, Lombardia', 'city': 'Milano', 'state': 'Lombardia', 'country': 'Italia', 'formattedAddress': ['via Broletto 13', '20129 Milano Lombardia', 'Italia']}\n",
      "{'address': 'Via San Maurilio 1', 'crossStreet': 'Via Torino', 'lat': 45.46176428832495, 'lng': 9.185129688842286, 'labeledLatLngs': [{'label': 'display', 'lat': 45.46176428832495, 'lng': 9.185129688842286}], 'postalCode': '20123', 'cc': 'IT', 'city': 'Milano', 'state': 'Lombardia', 'country': 'Italia', 'formattedAddress': ['Via San Maurilio 1 (Via Torino)', '20123 Milano Lombardia', 'Italia']}\n",
      "{'lat': 45.460109, 'lng': 9.181184, 'labeledLatLngs': [{'label': 'display', 'lat': 45.460109, 'lng': 9.181184}], 'postalCode': '20123', 'cc': 'IT', 'city': 'Milano', 'state': 'Lombardia', 'country': 'Italia', 'formattedAddress': ['20123 Milano Lombardia', 'Italia']}\n",
      "{'address': 'Cso italia', 'lat': 45.45825503998404, 'lng': 9.187776458882704, 'labeledLatLngs': [{'label': 'display', 'lat': 45.45825503998404, 'lng': 9.187776458882704}], 'postalCode': '20123', 'cc': 'IT', 'city': 'Milano', 'state': 'Lombardia', 'country': 'Italia', 'formattedAddress': ['Cso italia', '20123 Milano Lombardia', 'Italia']}\n",
      "{'address': 'Via Giuseppe Mazzini, 8', 'crossStreet': 'Via Dogana', 'lat': 45.46298636861442, 'lng': 9.188540043596188, 'labeledLatLngs': [{'label': 'display', 'lat': 45.46298636861442, 'lng': 9.188540043596188}], 'postalCode': '20123', 'cc': 'IT', 'city': 'Milano', 'state': 'Lombardia', 'country': 'Italia', 'formattedAddress': ['Via Giuseppe Mazzini, 8 (Via Dogana)', '20123 Milano Lombardia', 'Italia']}\n",
      "{'address': 'Piazza Velasca', 'lat': 45.46029418450596, 'lng': 9.190637121406615, 'labeledLatLngs': [{'label': 'display', 'lat': 45.46029418450596, 'lng': 9.190637121406615}], 'postalCode': '20122', 'cc': 'IT', 'city': 'Milano', 'state': 'Lombardia', 'country': 'Italia', 'formattedAddress': ['Piazza Velasca', '20122 Milano Lombardia', 'Italia']}\n",
      "{'address': 'Via San GIovanni Sul Muro 4', 'crossStreet': 'Via Puccini', 'lat': 45.46684486985102, 'lng': 9.181303176543873, 'labeledLatLngs': [{'label': 'display', 'lat': 45.46684486985102, 'lng': 9.181303176543873}], 'postalCode': '20121', 'cc': 'IT', 'city': 'Milano', 'state': 'Lombardia', 'country': 'Italia', 'formattedAddress': ['Via San GIovanni Sul Muro 4 (Via Puccini)', '20121 Milano Lombardia', 'Italia']}\n",
      "{'address': 'Galleria San Babila 4D', 'lat': 45.466366814143655, 'lng': 9.19812258705332, 'labeledLatLngs': [{'label': 'display', 'lat': 45.466366814143655, 'lng': 9.19812258705332}], 'postalCode': '20122', 'cc': 'IT', 'city': 'Milano', 'state': 'Lombardia', 'country': 'Italia', 'formattedAddress': ['Galleria San Babila 4D', '20122 Milano Lombardia', 'Italia']}\n",
      "{'address': 'Piazza del Duomo, 17', 'lat': 45.464690110188315, 'lng': 9.188503667820415, 'labeledLatLngs': [{'label': 'display', 'lat': 45.464690110188315, 'lng': 9.188503667820415}], 'postalCode': '20123', 'cc': 'IT', 'neighborhood': 'Duomo', 'city': 'Milano', 'state': 'Lombardia', 'country': 'Italia', 'formattedAddress': ['Piazza del Duomo, 17', '20123 Milano Lombardia', 'Italia']}\n",
      "{'address': 'via Dante', 'lat': 45.46644453812809, 'lng': 9.184582172504902, 'labeledLatLngs': [{'label': 'display', 'lat': 45.46644453812809, 'lng': 9.184582172504902}], 'postalCode': '20122', 'cc': 'IT', 'city': 'Milano', 'state': 'Lombardia', 'country': 'Italia', 'formattedAddress': ['via Dante', '20122 Milano Lombardia', 'Italia']}\n",
      "{'address': 'Via Orefici 24', 'crossStreet': 'Passaggio Scuole Palatine', 'lat': 45.46452588580251, 'lng': 9.187082923343661, 'labeledLatLngs': [{'label': 'display', 'lat': 45.46452588580251, 'lng': 9.187082923343661}], 'cc': 'IT', 'city': 'Milano', 'state': 'Lombardia', 'country': 'Italia', 'formattedAddress': ['Via Orefici 24 (Passaggio Scuole Palatine)', 'Milano Lombardia', 'Italia']}\n",
      "found 43 cafes\n"
     ]
    },
    {
     "data": {
      "text/html": [
       "<div>\n",
       "<style scoped>\n",
       "    .dataframe tbody tr th:only-of-type {\n",
       "        vertical-align: middle;\n",
       "    }\n",
       "\n",
       "    .dataframe tbody tr th {\n",
       "        vertical-align: top;\n",
       "    }\n",
       "\n",
       "    .dataframe thead th {\n",
       "        text-align: right;\n",
       "    }\n",
       "</style>\n",
       "<table border=\"1\" class=\"dataframe\">\n",
       "  <thead>\n",
       "    <tr style=\"text-align: right;\">\n",
       "      <th></th>\n",
       "      <th>uid</th>\n",
       "      <th>name</th>\n",
       "      <th>shortname</th>\n",
       "      <th>address</th>\n",
       "      <th>postalcode</th>\n",
       "      <th>lat</th>\n",
       "      <th>lng</th>\n",
       "    </tr>\n",
       "  </thead>\n",
       "  <tbody>\n",
       "    <tr>\n",
       "      <th>0</th>\n",
       "      <td>57d52948498ebceb900cf11c</td>\n",
       "      <td>Pasticceria Marchesi</td>\n",
       "      <td>Pastry</td>\n",
       "      <td></td>\n",
       "      <td>20121</td>\n",
       "      <td>45.465612</td>\n",
       "      <td>9.190091</td>\n",
       "    </tr>\n",
       "    <tr>\n",
       "      <th>1</th>\n",
       "      <td>58b5d3364e31c52f888a0bed</td>\n",
       "      <td>Starbucks Reserve Roastery</td>\n",
       "      <td>Coffee Shop</td>\n",
       "      <td></td>\n",
       "      <td>20123</td>\n",
       "      <td>45.464920</td>\n",
       "      <td>9.186153</td>\n",
       "    </tr>\n",
       "    <tr>\n",
       "      <th>2</th>\n",
       "      <td>59c2232bd48ec17dd4178369</td>\n",
       "      <td>Lavazza Coffee Design</td>\n",
       "      <td>Coffee Shop</td>\n",
       "      <td></td>\n",
       "      <td>20122</td>\n",
       "      <td>45.466274</td>\n",
       "      <td>9.190975</td>\n",
       "    </tr>\n",
       "    <tr>\n",
       "      <th>3</th>\n",
       "      <td>5485c0d7498e225e0587b79b</td>\n",
       "      <td>Panini Durini</td>\n",
       "      <td>Sandwiches</td>\n",
       "      <td></td>\n",
       "      <td>20121</td>\n",
       "      <td>45.465238</td>\n",
       "      <td>9.188590</td>\n",
       "    </tr>\n",
       "    <tr>\n",
       "      <th>4</th>\n",
       "      <td>4be181c240d676b02de504ee</td>\n",
       "      <td>Princi</td>\n",
       "      <td>Bakery</td>\n",
       "      <td></td>\n",
       "      <td>20123</td>\n",
       "      <td>45.463029</td>\n",
       "      <td>9.187968</td>\n",
       "    </tr>\n",
       "  </tbody>\n",
       "</table>\n",
       "</div>"
      ],
      "text/plain": [
       "                        uid                        name    shortname address  \\\n",
       "0  57d52948498ebceb900cf11c        Pasticceria Marchesi       Pastry           \n",
       "1  58b5d3364e31c52f888a0bed  Starbucks Reserve Roastery  Coffee Shop           \n",
       "2  59c2232bd48ec17dd4178369       Lavazza Coffee Design  Coffee Shop           \n",
       "3  5485c0d7498e225e0587b79b               Panini Durini   Sandwiches           \n",
       "4  4be181c240d676b02de504ee                      Princi       Bakery           \n",
       "\n",
       "  postalcode        lat       lng  \n",
       "0      20121  45.465612  9.190091  \n",
       "1      20123  45.464920  9.186153  \n",
       "2      20122  45.466274  9.190975  \n",
       "3      20121  45.465238  9.188590  \n",
       "4      20123  45.463029  9.187968  "
      ]
     },
     "execution_count": 24,
     "metadata": {},
     "output_type": "execute_result"
    }
   ],
   "source": [
    "# Time to create the Dataframe\n",
    "df_raw = []\n",
    "for item in items:\n",
    "    venue = item[\"venue\"]\n",
    "    categories, uid, name, location = venue[\"categories\"], venue[\"id\"], venue[\"name\"], venue[\"location\"]\n",
    "    print(location)\n",
    "    assert len(categories) == 1\n",
    "    shortname = categories[0][\"shortName\"]\n",
    "    address =  ''\n",
    "    if hasattr(location, 'address'):\n",
    "      address = location['address']\n",
    "    if not \"postalCode\" in location:\n",
    "        continue\n",
    "    postalcode = location[\"postalCode\"]\n",
    "    lat = location[\"lat\"]\n",
    "    lng = location[\"lng\"]\n",
    "    datarow = (uid, name, shortname, address, postalcode, lat, lng)\n",
    "    df_raw.append(datarow)\n",
    "df = pd.DataFrame(df_raw, columns=[\"uid\", \"name\", \"shortname\", \"address\", \"postalcode\", \"lat\", \"lng\"])\n",
    "print(\"found %i cafes\" % len(df))\n",
    "df.head()"
   ]
  },
  {
   "cell_type": "code",
   "execution_count": 25,
   "metadata": {},
   "outputs": [
    {
     "data": {
      "text/plain": [
       "{'lat': 45.46427, 'lng': 9.18951}"
      ]
     },
     "execution_count": 25,
     "metadata": {},
     "output_type": "execute_result"
    }
   ],
   "source": [
    "# Setting Milan Location\n",
    "Milan = d[\"geocode\"][\"center\"]\n",
    "Milan"
   ]
  },
  {
   "cell_type": "code",
   "execution_count": 28,
   "metadata": {},
   "outputs": [
    {
     "data": {
      "text/html": [
       "<div style=\"width:100%;\"><div style=\"position:relative;width:100%;height:0;padding-bottom:60%;\"><span style=\"color:#565656\">Make this Notebook Trusted to load map: File -> Trust Notebook</span><iframe src=\"about:blank\" style=\"position:absolute;width:100%;height:100%;left:0;top:0;border:none !important;\" data-html=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 onload=\"this.contentDocument.open();this.contentDocument.write(atob(this.getAttribute('data-html')));this.contentDocument.close();\" allowfullscreen webkitallowfullscreen mozallowfullscreen></iframe></div></div>"
      ],
      "text/plain": [
       "<folium.folium.Map at 0x15367d1c8c8>"
      ]
     },
     "execution_count": 28,
     "metadata": {},
     "output_type": "execute_result"
    }
   ],
   "source": [
    "# Showing Milan Map \n",
    "\n",
    "import folium.plugins as plugins\n",
    "map_Milan = folium.Map(location=[45.46427, 9.18951], zoom_start=14)\n",
    "\n",
    "def add_markers(df):\n",
    "    for (j, row) in df.iterrows():\n",
    "        label = folium.Popup(row[\"name\"], parse_html=True)\n",
    "        folium.CircleMarker(\n",
    "            [row[\"lat\"], row[\"lng\"]],\n",
    "            radius=5,\n",
    "            popup=label,\n",
    "            color='red',\n",
    "            fill=True,\n",
    "            fill_color='#3186cc',\n",
    "            fill_opacity=0.7,\n",
    "            parse_html=False).add_to(map_Milan)\n",
    "\n",
    "add_markers(df)\n",
    "hm_data = df[[\"lat\", \"lng\"]].to_numpy().tolist()\n",
    "map_Milan.add_child(plugins.HeatMap(hm_data))\n",
    "\n",
    "map_Milan"
   ]
  },
  {
   "cell_type": "markdown",
   "metadata": {},
   "source": [
    "<h3>Conclusion:</h3>"
   ]
  },
  {
   "cell_type": "markdown",
   "metadata": {},
   "source": [
    "The HeatMap can tell us exactly where to open a new Caffee. It should be close to the hottest points on the Map, since they are the most trendy but at the same time, not inside the Heat or there will be too much competition"
   ]
  },
  {
   "cell_type": "code",
   "execution_count": null,
   "metadata": {},
   "outputs": [],
   "source": []
  }
 ],
 "metadata": {
  "kernelspec": {
   "display_name": "Python 3",
   "language": "python",
   "name": "python3"
  },
  "language_info": {
   "codemirror_mode": {
    "name": "ipython",
    "version": 3
   },
   "file_extension": ".py",
   "mimetype": "text/x-python",
   "name": "python",
   "nbconvert_exporter": "python",
   "pygments_lexer": "ipython3",
   "version": "3.7.6"
  }
 },
 "nbformat": 4,
 "nbformat_minor": 4
}
